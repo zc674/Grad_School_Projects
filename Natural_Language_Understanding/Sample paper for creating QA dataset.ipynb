{
 "cells": [
  {
   "cell_type": "code",
   "execution_count": 104,
   "metadata": {},
   "outputs": [],
   "source": [
    "import numpy as np\n",
    "import pandas as pd"
   ]
  },
  {
   "cell_type": "code",
   "execution_count": 4,
   "metadata": {},
   "outputs": [],
   "source": [
    "covid = pd.read_csv('metadata.csv')"
   ]
  },
  {
   "cell_type": "code",
   "execution_count": 5,
   "metadata": {},
   "outputs": [
    {
     "data": {
      "text/html": [
       "<div>\n",
       "<style scoped>\n",
       "    .dataframe tbody tr th:only-of-type {\n",
       "        vertical-align: middle;\n",
       "    }\n",
       "\n",
       "    .dataframe tbody tr th {\n",
       "        vertical-align: top;\n",
       "    }\n",
       "\n",
       "    .dataframe thead th {\n",
       "        text-align: right;\n",
       "    }\n",
       "</style>\n",
       "<table border=\"1\" class=\"dataframe\">\n",
       "  <thead>\n",
       "    <tr style=\"text-align: right;\">\n",
       "      <th></th>\n",
       "      <th>cord_uid</th>\n",
       "      <th>sha</th>\n",
       "      <th>source_x</th>\n",
       "      <th>title</th>\n",
       "      <th>doi</th>\n",
       "      <th>pmcid</th>\n",
       "      <th>pubmed_id</th>\n",
       "      <th>license</th>\n",
       "      <th>abstract</th>\n",
       "      <th>publish_time</th>\n",
       "      <th>authors</th>\n",
       "      <th>journal</th>\n",
       "      <th>Microsoft Academic Paper ID</th>\n",
       "      <th>WHO #Covidence</th>\n",
       "      <th>has_pdf_parse</th>\n",
       "      <th>has_pmc_xml_parse</th>\n",
       "      <th>full_text_file</th>\n",
       "      <th>url</th>\n",
       "    </tr>\n",
       "  </thead>\n",
       "  <tbody>\n",
       "    <tr>\n",
       "      <th>0</th>\n",
       "      <td>xqhn0vbp</td>\n",
       "      <td>1e1286db212100993d03cc22374b624f7caee956</td>\n",
       "      <td>PMC</td>\n",
       "      <td>Airborne rhinovirus detection and effect of ul...</td>\n",
       "      <td>10.1186/1471-2458-3-5</td>\n",
       "      <td>PMC140314</td>\n",
       "      <td>12525263.0</td>\n",
       "      <td>no-cc</td>\n",
       "      <td>BACKGROUND: Rhinovirus, the most common cause ...</td>\n",
       "      <td>2003-01-13</td>\n",
       "      <td>Myatt, Theodore A; Johnston, Sebastian L; Rudn...</td>\n",
       "      <td>BMC Public Health</td>\n",
       "      <td>NaN</td>\n",
       "      <td>NaN</td>\n",
       "      <td>True</td>\n",
       "      <td>True</td>\n",
       "      <td>custom_license</td>\n",
       "      <td>https://www.ncbi.nlm.nih.gov/pmc/articles/PMC1...</td>\n",
       "    </tr>\n",
       "    <tr>\n",
       "      <th>1</th>\n",
       "      <td>gi6uaa83</td>\n",
       "      <td>8ae137c8da1607b3a8e4c946c07ca8bda67f88ac</td>\n",
       "      <td>PMC</td>\n",
       "      <td>Discovering human history from stomach bacteria</td>\n",
       "      <td>10.1186/gb-2003-4-5-213</td>\n",
       "      <td>PMC156578</td>\n",
       "      <td>12734001.0</td>\n",
       "      <td>no-cc</td>\n",
       "      <td>Recent analyses of human pathogens have reveal...</td>\n",
       "      <td>2003-04-28</td>\n",
       "      <td>Disotell, Todd R</td>\n",
       "      <td>Genome Biol</td>\n",
       "      <td>NaN</td>\n",
       "      <td>NaN</td>\n",
       "      <td>True</td>\n",
       "      <td>True</td>\n",
       "      <td>custom_license</td>\n",
       "      <td>https://www.ncbi.nlm.nih.gov/pmc/articles/PMC1...</td>\n",
       "    </tr>\n",
       "    <tr>\n",
       "      <th>2</th>\n",
       "      <td>le0ogx1s</td>\n",
       "      <td>NaN</td>\n",
       "      <td>PMC</td>\n",
       "      <td>A new recruit for the army of the men of death</td>\n",
       "      <td>10.1186/gb-2003-4-7-113</td>\n",
       "      <td>PMC193621</td>\n",
       "      <td>12844350.0</td>\n",
       "      <td>no-cc</td>\n",
       "      <td>The army of the men of death, in John Bunyan's...</td>\n",
       "      <td>2003-06-27</td>\n",
       "      <td>Petsko, Gregory A</td>\n",
       "      <td>Genome Biol</td>\n",
       "      <td>NaN</td>\n",
       "      <td>NaN</td>\n",
       "      <td>False</td>\n",
       "      <td>True</td>\n",
       "      <td>custom_license</td>\n",
       "      <td>https://www.ncbi.nlm.nih.gov/pmc/articles/PMC1...</td>\n",
       "    </tr>\n",
       "    <tr>\n",
       "      <th>3</th>\n",
       "      <td>fy4w7xz8</td>\n",
       "      <td>0104f6ceccf92ae8567a0102f89cbb976969a774</td>\n",
       "      <td>PMC</td>\n",
       "      <td>Association of HLA class I with severe acute r...</td>\n",
       "      <td>10.1186/1471-2350-4-9</td>\n",
       "      <td>PMC212558</td>\n",
       "      <td>12969506.0</td>\n",
       "      <td>no-cc</td>\n",
       "      <td>BACKGROUND: The human leukocyte antigen (HLA) ...</td>\n",
       "      <td>2003-09-12</td>\n",
       "      <td>Lin, Marie; Tseng, Hsiang-Kuang; Trejaut, Jean...</td>\n",
       "      <td>BMC Med Genet</td>\n",
       "      <td>NaN</td>\n",
       "      <td>NaN</td>\n",
       "      <td>True</td>\n",
       "      <td>True</td>\n",
       "      <td>custom_license</td>\n",
       "      <td>https://www.ncbi.nlm.nih.gov/pmc/articles/PMC2...</td>\n",
       "    </tr>\n",
       "    <tr>\n",
       "      <th>4</th>\n",
       "      <td>0qaoam29</td>\n",
       "      <td>5b68a553a7cbbea13472721cd1ad617d42b40c26</td>\n",
       "      <td>PMC</td>\n",
       "      <td>A double epidemic model for the SARS propagation</td>\n",
       "      <td>10.1186/1471-2334-3-19</td>\n",
       "      <td>PMC222908</td>\n",
       "      <td>12964944.0</td>\n",
       "      <td>no-cc</td>\n",
       "      <td>BACKGROUND: An epidemic of a Severe Acute Resp...</td>\n",
       "      <td>2003-09-10</td>\n",
       "      <td>Ng, Tuen Wai; Turinici, Gabriel; Danchin, Antoine</td>\n",
       "      <td>BMC Infect Dis</td>\n",
       "      <td>NaN</td>\n",
       "      <td>NaN</td>\n",
       "      <td>True</td>\n",
       "      <td>True</td>\n",
       "      <td>custom_license</td>\n",
       "      <td>https://www.ncbi.nlm.nih.gov/pmc/articles/PMC2...</td>\n",
       "    </tr>\n",
       "  </tbody>\n",
       "</table>\n",
       "</div>"
      ],
      "text/plain": [
       "   cord_uid                                       sha source_x  \\\n",
       "0  xqhn0vbp  1e1286db212100993d03cc22374b624f7caee956      PMC   \n",
       "1  gi6uaa83  8ae137c8da1607b3a8e4c946c07ca8bda67f88ac      PMC   \n",
       "2  le0ogx1s                                       NaN      PMC   \n",
       "3  fy4w7xz8  0104f6ceccf92ae8567a0102f89cbb976969a774      PMC   \n",
       "4  0qaoam29  5b68a553a7cbbea13472721cd1ad617d42b40c26      PMC   \n",
       "\n",
       "                                               title                      doi  \\\n",
       "0  Airborne rhinovirus detection and effect of ul...    10.1186/1471-2458-3-5   \n",
       "1    Discovering human history from stomach bacteria  10.1186/gb-2003-4-5-213   \n",
       "2     A new recruit for the army of the men of death  10.1186/gb-2003-4-7-113   \n",
       "3  Association of HLA class I with severe acute r...    10.1186/1471-2350-4-9   \n",
       "4   A double epidemic model for the SARS propagation   10.1186/1471-2334-3-19   \n",
       "\n",
       "       pmcid   pubmed_id license  \\\n",
       "0  PMC140314  12525263.0   no-cc   \n",
       "1  PMC156578  12734001.0   no-cc   \n",
       "2  PMC193621  12844350.0   no-cc   \n",
       "3  PMC212558  12969506.0   no-cc   \n",
       "4  PMC222908  12964944.0   no-cc   \n",
       "\n",
       "                                            abstract publish_time  \\\n",
       "0  BACKGROUND: Rhinovirus, the most common cause ...   2003-01-13   \n",
       "1  Recent analyses of human pathogens have reveal...   2003-04-28   \n",
       "2  The army of the men of death, in John Bunyan's...   2003-06-27   \n",
       "3  BACKGROUND: The human leukocyte antigen (HLA) ...   2003-09-12   \n",
       "4  BACKGROUND: An epidemic of a Severe Acute Resp...   2003-09-10   \n",
       "\n",
       "                                             authors            journal  \\\n",
       "0  Myatt, Theodore A; Johnston, Sebastian L; Rudn...  BMC Public Health   \n",
       "1                                   Disotell, Todd R        Genome Biol   \n",
       "2                                  Petsko, Gregory A        Genome Biol   \n",
       "3  Lin, Marie; Tseng, Hsiang-Kuang; Trejaut, Jean...      BMC Med Genet   \n",
       "4  Ng, Tuen Wai; Turinici, Gabriel; Danchin, Antoine     BMC Infect Dis   \n",
       "\n",
       "   Microsoft Academic Paper ID WHO #Covidence  has_pdf_parse  \\\n",
       "0                          NaN            NaN           True   \n",
       "1                          NaN            NaN           True   \n",
       "2                          NaN            NaN          False   \n",
       "3                          NaN            NaN           True   \n",
       "4                          NaN            NaN           True   \n",
       "\n",
       "   has_pmc_xml_parse  full_text_file  \\\n",
       "0               True  custom_license   \n",
       "1               True  custom_license   \n",
       "2               True  custom_license   \n",
       "3               True  custom_license   \n",
       "4               True  custom_license   \n",
       "\n",
       "                                                 url  \n",
       "0  https://www.ncbi.nlm.nih.gov/pmc/articles/PMC1...  \n",
       "1  https://www.ncbi.nlm.nih.gov/pmc/articles/PMC1...  \n",
       "2  https://www.ncbi.nlm.nih.gov/pmc/articles/PMC1...  \n",
       "3  https://www.ncbi.nlm.nih.gov/pmc/articles/PMC2...  \n",
       "4  https://www.ncbi.nlm.nih.gov/pmc/articles/PMC2...  "
      ]
     },
     "execution_count": 5,
     "metadata": {},
     "output_type": "execute_result"
    }
   ],
   "source": [
    "covid.head()"
   ]
  },
  {
   "cell_type": "code",
   "execution_count": 47,
   "metadata": {},
   "outputs": [],
   "source": [
    "covid_name = ['covid', 'novel coronavirus', '2019-ncov']"
   ]
  },
  {
   "cell_type": "code",
   "execution_count": 46,
   "metadata": {},
   "outputs": [
    {
     "data": {
      "text/plain": [
       "3289"
      ]
     },
     "execution_count": 46,
     "metadata": {},
     "output_type": "execute_result"
    }
   ],
   "source": [
    "sum([any(c in str(a).lower() for c in covid_name) for a in covid.abstract])"
   ]
  },
  {
   "cell_type": "code",
   "execution_count": 52,
   "metadata": {},
   "outputs": [],
   "source": [
    "covid = covid[[any(c in str(a).lower() for c in covid_name) for a in covid.abstract]].sort_values('publish_time')"
   ]
  },
  {
   "cell_type": "code",
   "execution_count": 55,
   "metadata": {},
   "outputs": [],
   "source": [
    "covid = covid[covid.publish_time>'2020']"
   ]
  },
  {
   "cell_type": "code",
   "execution_count": 56,
   "metadata": {},
   "outputs": [
    {
     "data": {
      "text/html": [
       "<div>\n",
       "<style scoped>\n",
       "    .dataframe tbody tr th:only-of-type {\n",
       "        vertical-align: middle;\n",
       "    }\n",
       "\n",
       "    .dataframe tbody tr th {\n",
       "        vertical-align: top;\n",
       "    }\n",
       "\n",
       "    .dataframe thead th {\n",
       "        text-align: right;\n",
       "    }\n",
       "</style>\n",
       "<table border=\"1\" class=\"dataframe\">\n",
       "  <thead>\n",
       "    <tr style=\"text-align: right;\">\n",
       "      <th></th>\n",
       "      <th>cord_uid</th>\n",
       "      <th>sha</th>\n",
       "      <th>source_x</th>\n",
       "      <th>title</th>\n",
       "      <th>doi</th>\n",
       "      <th>pmcid</th>\n",
       "      <th>pubmed_id</th>\n",
       "      <th>license</th>\n",
       "      <th>abstract</th>\n",
       "      <th>publish_time</th>\n",
       "      <th>authors</th>\n",
       "      <th>journal</th>\n",
       "      <th>Microsoft Academic Paper ID</th>\n",
       "      <th>WHO #Covidence</th>\n",
       "      <th>has_pdf_parse</th>\n",
       "      <th>has_pmc_xml_parse</th>\n",
       "      <th>full_text_file</th>\n",
       "      <th>url</th>\n",
       "    </tr>\n",
       "  </thead>\n",
       "  <tbody>\n",
       "    <tr>\n",
       "      <th>33718</th>\n",
       "      <td>168onmwf</td>\n",
       "      <td>NaN</td>\n",
       "      <td>WHO</td>\n",
       "      <td>2019 Novel Coronavirus (COVID-19) Pneumonia wi...</td>\n",
       "      <td>10.3348/kjr.2020.0181</td>\n",
       "      <td>NaN</td>\n",
       "      <td>NaN</td>\n",
       "      <td>unk</td>\n",
       "      <td>Recently, some global cases of 2019 novel coro...</td>\n",
       "      <td>2020-01-01</td>\n",
       "      <td>Shi, Fengxia; Yu, Quanbo; Huang, Wei; Tan, Cha...</td>\n",
       "      <td>Korean Journal of Radiology</td>\n",
       "      <td>NaN</td>\n",
       "      <td>#8676</td>\n",
       "      <td>False</td>\n",
       "      <td>False</td>\n",
       "      <td>NaN</td>\n",
       "      <td>https://doi.org/10.3348/kjr.2020.0181</td>\n",
       "    </tr>\n",
       "    <tr>\n",
       "      <th>33744</th>\n",
       "      <td>mpki3n05</td>\n",
       "      <td>NaN</td>\n",
       "      <td>WHO</td>\n",
       "      <td>Imported cases of 2019-novel coronavirus (2019...</td>\n",
       "      <td>10.4103/1995-7645.277516</td>\n",
       "      <td>NaN</td>\n",
       "      <td>NaN</td>\n",
       "      <td>unk</td>\n",
       "      <td>'Imported cases of 2019-novel coronavirus (201...</td>\n",
       "      <td>2020-01-01</td>\n",
       "      <td>Wiwanitkit, Pathum Sookaromdee; Viroj</td>\n",
       "      <td>Asian Pacific Journal of Tropical Medicine</td>\n",
       "      <td>3.005392e+09</td>\n",
       "      <td>#2516</td>\n",
       "      <td>False</td>\n",
       "      <td>False</td>\n",
       "      <td>NaN</td>\n",
       "      <td>https://doi.org/10.4103/1995-7645.277516</td>\n",
       "    </tr>\n",
       "    <tr>\n",
       "      <th>33745</th>\n",
       "      <td>624g6tmu</td>\n",
       "      <td>NaN</td>\n",
       "      <td>WHO</td>\n",
       "      <td>Emerging and re-emerging human infectious dise...</td>\n",
       "      <td>10.4103/1995-7645.277535</td>\n",
       "      <td>NaN</td>\n",
       "      <td>NaN</td>\n",
       "      <td>unk</td>\n",
       "      <td>Infectious diseases continue to impose unpredi...</td>\n",
       "      <td>2020-01-01</td>\n",
       "      <td>Siqueira-Batista, Marli C. Cupertino; Michely,...</td>\n",
       "      <td>Asian Pacific Journal of Tropical Medicine</td>\n",
       "      <td>3.004810e+09</td>\n",
       "      <td>#2543</td>\n",
       "      <td>False</td>\n",
       "      <td>False</td>\n",
       "      <td>NaN</td>\n",
       "      <td>https://doi.org/10.4103/1995-7645.277535</td>\n",
       "    </tr>\n",
       "    <tr>\n",
       "      <th>33746</th>\n",
       "      <td>lhbkt4te</td>\n",
       "      <td>NaN</td>\n",
       "      <td>WHO</td>\n",
       "      <td>Novel coronavirus (2019-nCoV) update: What we ...</td>\n",
       "      <td>10.4103/1995-7645.277795</td>\n",
       "      <td>NaN</td>\n",
       "      <td>NaN</td>\n",
       "      <td>unk</td>\n",
       "      <td>Preliminary clinical features indicated that m...</td>\n",
       "      <td>2020-01-01</td>\n",
       "      <td>Fasina, Folorunso Oludayo</td>\n",
       "      <td>Asian Pacific Journal of Tropical Medicine</td>\n",
       "      <td>3.004468e+09</td>\n",
       "      <td>#2646</td>\n",
       "      <td>False</td>\n",
       "      <td>False</td>\n",
       "      <td>NaN</td>\n",
       "      <td>https://doi.org/10.4103/1995-7645.277795</td>\n",
       "    </tr>\n",
       "    <tr>\n",
       "      <th>33747</th>\n",
       "      <td>p0b4mhif</td>\n",
       "      <td>NaN</td>\n",
       "      <td>WHO</td>\n",
       "      <td>Dose prediction of lopinavir/ritonavir for 201...</td>\n",
       "      <td>10.4103/1995-7645.277815</td>\n",
       "      <td>NaN</td>\n",
       "      <td>NaN</td>\n",
       "      <td>unk</td>\n",
       "      <td>At present, lopinavir/ritonavir is widely used...</td>\n",
       "      <td>2020-01-01</td>\n",
       "      <td>Wiwanitkit, Sora Yasri; Viroj</td>\n",
       "      <td>Asian Pacific Journal of Tropical Medicine</td>\n",
       "      <td>3.006178e+09</td>\n",
       "      <td>#2515</td>\n",
       "      <td>False</td>\n",
       "      <td>False</td>\n",
       "      <td>NaN</td>\n",
       "      <td>https://doi.org/10.4103/1995-7645.277815</td>\n",
       "    </tr>\n",
       "  </tbody>\n",
       "</table>\n",
       "</div>"
      ],
      "text/plain": [
       "       cord_uid  sha source_x  \\\n",
       "33718  168onmwf  NaN      WHO   \n",
       "33744  mpki3n05  NaN      WHO   \n",
       "33745  624g6tmu  NaN      WHO   \n",
       "33746  lhbkt4te  NaN      WHO   \n",
       "33747  p0b4mhif  NaN      WHO   \n",
       "\n",
       "                                                   title  \\\n",
       "33718  2019 Novel Coronavirus (COVID-19) Pneumonia wi...   \n",
       "33744  Imported cases of 2019-novel coronavirus (2019...   \n",
       "33745  Emerging and re-emerging human infectious dise...   \n",
       "33746  Novel coronavirus (2019-nCoV) update: What we ...   \n",
       "33747  Dose prediction of lopinavir/ritonavir for 201...   \n",
       "\n",
       "                            doi pmcid  pubmed_id license  \\\n",
       "33718     10.3348/kjr.2020.0181   NaN        NaN     unk   \n",
       "33744  10.4103/1995-7645.277516   NaN        NaN     unk   \n",
       "33745  10.4103/1995-7645.277535   NaN        NaN     unk   \n",
       "33746  10.4103/1995-7645.277795   NaN        NaN     unk   \n",
       "33747  10.4103/1995-7645.277815   NaN        NaN     unk   \n",
       "\n",
       "                                                abstract publish_time  \\\n",
       "33718  Recently, some global cases of 2019 novel coro...   2020-01-01   \n",
       "33744  'Imported cases of 2019-novel coronavirus (201...   2020-01-01   \n",
       "33745  Infectious diseases continue to impose unpredi...   2020-01-01   \n",
       "33746  Preliminary clinical features indicated that m...   2020-01-01   \n",
       "33747  At present, lopinavir/ritonavir is widely used...   2020-01-01   \n",
       "\n",
       "                                                 authors  \\\n",
       "33718  Shi, Fengxia; Yu, Quanbo; Huang, Wei; Tan, Cha...   \n",
       "33744              Wiwanitkit, Pathum Sookaromdee; Viroj   \n",
       "33745  Siqueira-Batista, Marli C. Cupertino; Michely,...   \n",
       "33746                          Fasina, Folorunso Oludayo   \n",
       "33747                      Wiwanitkit, Sora Yasri; Viroj   \n",
       "\n",
       "                                          journal  \\\n",
       "33718                 Korean Journal of Radiology   \n",
       "33744  Asian Pacific Journal of Tropical Medicine   \n",
       "33745  Asian Pacific Journal of Tropical Medicine   \n",
       "33746  Asian Pacific Journal of Tropical Medicine   \n",
       "33747  Asian Pacific Journal of Tropical Medicine   \n",
       "\n",
       "       Microsoft Academic Paper ID WHO #Covidence  has_pdf_parse  \\\n",
       "33718                          NaN          #8676          False   \n",
       "33744                 3.005392e+09          #2516          False   \n",
       "33745                 3.004810e+09          #2543          False   \n",
       "33746                 3.004468e+09          #2646          False   \n",
       "33747                 3.006178e+09          #2515          False   \n",
       "\n",
       "       has_pmc_xml_parse full_text_file  \\\n",
       "33718              False            NaN   \n",
       "33744              False            NaN   \n",
       "33745              False            NaN   \n",
       "33746              False            NaN   \n",
       "33747              False            NaN   \n",
       "\n",
       "                                            url  \n",
       "33718     https://doi.org/10.3348/kjr.2020.0181  \n",
       "33744  https://doi.org/10.4103/1995-7645.277516  \n",
       "33745  https://doi.org/10.4103/1995-7645.277535  \n",
       "33746  https://doi.org/10.4103/1995-7645.277795  \n",
       "33747  https://doi.org/10.4103/1995-7645.277815  "
      ]
     },
     "execution_count": 56,
     "metadata": {},
     "output_type": "execute_result"
    }
   ],
   "source": [
    "covid.head()"
   ]
  },
  {
   "cell_type": "code",
   "execution_count": 57,
   "metadata": {},
   "outputs": [
    {
     "data": {
      "text/plain": [
       "(2643, 18)"
      ]
     },
     "execution_count": 57,
     "metadata": {},
     "output_type": "execute_result"
    }
   ],
   "source": [
    "covid.shape"
   ]
  },
  {
   "cell_type": "code",
   "execution_count": 60,
   "metadata": {},
   "outputs": [],
   "source": [
    "covid_sample = covid.sample(200, random_state=1)"
   ]
  },
  {
   "cell_type": "code",
   "execution_count": 61,
   "metadata": {},
   "outputs": [],
   "source": [
    "covid_sample.to_csv('covid_sample.csv')"
   ]
  },
  {
   "cell_type": "code",
   "execution_count": 67,
   "metadata": {},
   "outputs": [
    {
     "data": {
      "text/plain": [
       "'AbstractIt is of special significance to find a safe and effective vaccine against coronavirus disease 2019 (COVID-19) that can induce T cell and B cell -mediated immune responses. There is currently no vaccine to prevent COVID-19. In this project, a novel multi-epitope vaccine for COVID-19 virus based on surface glycoprotein was designed through application of bioinformatics methods. At the first, seventeen potent linear B-cell and T-cell binding epitopes from surface glycoprotein were predicted in silico, then the epitopes were joined together via different linkers. The ability of the selected epitopes to induce interferon-gamma was evaluate using IFNepitope web server. One final vaccine was constructed which composed of 398 amino acids and attached to 50S ribosomal protein L7/L12 as adjuvant. Physicochemical properties, as well as antigenicity in the proposed vaccines, were checked for defining the vaccine stability and its ability to induce cell-mediated immune responses. Three-dimensional structure of the mentioned vaccine was subjected to the molecular docking studies with MHC-I and MHC-II molecules. The results proposed that the multi-epitope vaccine with 50S ribosomal protein L7/L12 was a stable construct with high aliphatic content and high antigenicity.'"
      ]
     },
     "execution_count": 67,
     "metadata": {},
     "output_type": "execute_result"
    }
   ],
   "source": [
    "covid_sample.iloc[1,8]"
   ]
  },
  {
   "cell_type": "code",
   "execution_count": null,
   "metadata": {},
   "outputs": [],
   "source": [
    "# 0-48\n",
    "# 49-101\n",
    "# 102-151\n",
    "# 152-206"
   ]
  },
  {
   "cell_type": "code",
   "execution_count": 5,
   "metadata": {},
   "outputs": [],
   "source": [
    "qa = pd.read_excel('QA_mistake.xlsx')"
   ]
  },
  {
   "cell_type": "code",
   "execution_count": 6,
   "metadata": {},
   "outputs": [
    {
     "data": {
      "text/plain": [
       "(207, 5)"
      ]
     },
     "execution_count": 6,
     "metadata": {},
     "output_type": "execute_result"
    }
   ],
   "source": [
    "qa.shape"
   ]
  },
  {
   "cell_type": "code",
   "execution_count": 7,
   "metadata": {},
   "outputs": [
    {
     "data": {
      "text/html": [
       "<div>\n",
       "<style scoped>\n",
       "    .dataframe tbody tr th:only-of-type {\n",
       "        vertical-align: middle;\n",
       "    }\n",
       "\n",
       "    .dataframe tbody tr th {\n",
       "        vertical-align: top;\n",
       "    }\n",
       "\n",
       "    .dataframe thead th {\n",
       "        text-align: right;\n",
       "    }\n",
       "</style>\n",
       "<table border=\"1\" class=\"dataframe\">\n",
       "  <thead>\n",
       "    <tr style=\"text-align: right;\">\n",
       "      <th></th>\n",
       "      <th>question</th>\n",
       "      <th>answer</th>\n",
       "      <th>answer_start</th>\n",
       "      <th>is_impossible</th>\n",
       "      <th>context</th>\n",
       "    </tr>\n",
       "  </thead>\n",
       "  <tbody>\n",
       "    <tr>\n",
       "      <th>0</th>\n",
       "      <td>In which hosiptal was the research about pregn...</td>\n",
       "      <td>Tongji Hospital in Wuhan, China</td>\n",
       "      <td>553.0</td>\n",
       "      <td>False</td>\n",
       "      <td>In December, 2019, coronavirus disease 2019 (C...</td>\n",
       "    </tr>\n",
       "    <tr>\n",
       "      <th>1</th>\n",
       "      <td>How many amino acids the final vaccine has bee...</td>\n",
       "      <td>398</td>\n",
       "      <td>725.0</td>\n",
       "      <td>False</td>\n",
       "      <td>It is of special significance to find a safe a...</td>\n",
       "    </tr>\n",
       "    <tr>\n",
       "      <th>2</th>\n",
       "      <td>2019-nCoV was more likely to infect which grou...</td>\n",
       "      <td>elderly people with chronic comorbidities.</td>\n",
       "      <td>1401.0</td>\n",
       "      <td>False</td>\n",
       "      <td>Radiologic characteristics of 2019 novel coron...</td>\n",
       "    </tr>\n",
       "    <tr>\n",
       "      <th>3</th>\n",
       "      <td>Which group of people is priority when  govern...</td>\n",
       "      <td>health care workers</td>\n",
       "      <td>264.0</td>\n",
       "      <td>False</td>\n",
       "      <td>Compared with other countries, Taiwan has had ...</td>\n",
       "    </tr>\n",
       "    <tr>\n",
       "      <th>4</th>\n",
       "      <td>Which animal has been identified has SARS-CoV...</td>\n",
       "      <td>Pangolins</td>\n",
       "      <td>517.0</td>\n",
       "      <td>False</td>\n",
       "      <td>The pandemic of coronavirus disease 2019 (COVI...</td>\n",
       "    </tr>\n",
       "  </tbody>\n",
       "</table>\n",
       "</div>"
      ],
      "text/plain": [
       "                                            question  \\\n",
       "0  In which hosiptal was the research about pregn...   \n",
       "1  How many amino acids the final vaccine has bee...   \n",
       "2  2019-nCoV was more likely to infect which grou...   \n",
       "3  Which group of people is priority when  govern...   \n",
       "4   Which animal has been identified has SARS-CoV...   \n",
       "\n",
       "                                       answer  answer_start  is_impossible  \\\n",
       "0             Tongji Hospital in Wuhan, China         553.0          False   \n",
       "1                                         398         725.0          False   \n",
       "2  elderly people with chronic comorbidities.        1401.0          False   \n",
       "3                         health care workers         264.0          False   \n",
       "4                                   Pangolins         517.0          False   \n",
       "\n",
       "                                             context  \n",
       "0  In December, 2019, coronavirus disease 2019 (C...  \n",
       "1  It is of special significance to find a safe a...  \n",
       "2  Radiologic characteristics of 2019 novel coron...  \n",
       "3  Compared with other countries, Taiwan has had ...  \n",
       "4  The pandemic of coronavirus disease 2019 (COVI...  "
      ]
     },
     "execution_count": 7,
     "metadata": {},
     "output_type": "execute_result"
    }
   ],
   "source": [
    "qa.head()"
   ]
  },
  {
   "cell_type": "code",
   "execution_count": 89,
   "metadata": {},
   "outputs": [],
   "source": [
    "def match(df):\n",
    "    match = []\n",
    "    for i in range(len(df)):\n",
    "        if df.loc[i, 'is_impossible'] == False:\n",
    "            answer_len = len(df.loc[i,'answer'])\n",
    "            start = int(df.loc[i,'answer_start'])\n",
    "            text = df.loc[i,'context'][start:start+answer_len]\n",
    "            answer = df.loc[i,'answer']\n",
    "            if answer == text:\n",
    "                match.append(True)\n",
    "            else:\n",
    "                match.append(False)\n",
    "        else:\n",
    "            if pd.isna(df.loc[i, 'answer']) and pd.isna(df.loc[i, 'answer_start']):\n",
    "                match.append(True)\n",
    "            else:\n",
    "                match.append(False)\n",
    "    return match"
   ]
  },
  {
   "cell_type": "code",
   "execution_count": 10,
   "metadata": {},
   "outputs": [],
   "source": [
    "qa['match'] = match(qa)"
   ]
  },
  {
   "cell_type": "code",
   "execution_count": 12,
   "metadata": {},
   "outputs": [],
   "source": [
    "qa.to_excel('QA_mistake2.xlsx')"
   ]
  },
  {
   "cell_type": "code",
   "execution_count": 11,
   "metadata": {},
   "outputs": [
    {
     "data": {
      "text/plain": [
       "32"
      ]
     },
     "execution_count": 11,
     "metadata": {},
     "output_type": "execute_result"
    }
   ],
   "source": [
    "match(qa).count(False)"
   ]
  },
  {
   "cell_type": "markdown",
   "metadata": {},
   "source": [
    "# Integrate all data into the full QA dataset"
   ]
  },
  {
   "cell_type": "code",
   "execution_count": 107,
   "metadata": {},
   "outputs": [],
   "source": [
    "part1 = pd.read_csv('1-50.csv')\n",
    "part2 = pd.read_csv('50-100.csv')\n",
    "part3 = pd.read_csv('100-150.csv')\n",
    "part4 = pd.read_csv('150-200.csv')"
   ]
  },
  {
   "cell_type": "code",
   "execution_count": 110,
   "metadata": {},
   "outputs": [
    {
     "data": {
      "text/plain": [
       "(Index(['Unnamed: 0', 'question', 'answer', 'answer_start', 'is_impossible',\n",
       "        'context', 'match'],\n",
       "       dtype='object'),\n",
       " Index(['id', 'question', 'answer', 'answer_start', 'is_impossible', 'context'], dtype='object'),\n",
       " Index(['Unnamed: 0', 'question', 'answer', 'answer_start', 'is_impossible',\n",
       "        'context'],\n",
       "       dtype='object'),\n",
       " Index(['question', 'answer', 'answer_start', 'is_impossible', 'context'], dtype='object'))"
      ]
     },
     "execution_count": 110,
     "metadata": {},
     "output_type": "execute_result"
    }
   ],
   "source": [
    "part1.columns, part2.columns, part3.columns, part4.columns"
   ]
  },
  {
   "cell_type": "code",
   "execution_count": 109,
   "metadata": {},
   "outputs": [],
   "source": [
    "part2.rename(columns={\"abstract\": \"context\"}, inplace=True)\n",
    "part3.rename(columns={\"abstract\": \"context\"}, inplace=True)"
   ]
  },
  {
   "cell_type": "code",
   "execution_count": 111,
   "metadata": {},
   "outputs": [],
   "source": [
    "part1 = part1.iloc[:49]"
   ]
  },
  {
   "cell_type": "code",
   "execution_count": 112,
   "metadata": {},
   "outputs": [],
   "source": [
    "part4 = part4.iloc[:55]"
   ]
  },
  {
   "cell_type": "code",
   "execution_count": 113,
   "metadata": {},
   "outputs": [
    {
     "data": {
      "text/plain": [
       "((49, 7), (53, 6), (50, 6), (55, 5))"
      ]
     },
     "execution_count": 113,
     "metadata": {},
     "output_type": "execute_result"
    }
   ],
   "source": [
    "part1.shape, part2.shape, part3.shape, part4.shape"
   ]
  },
  {
   "cell_type": "code",
   "execution_count": 114,
   "metadata": {},
   "outputs": [
    {
     "data": {
      "text/plain": [
       "(5, 0, 1, 1)"
      ]
     },
     "execution_count": 114,
     "metadata": {},
     "output_type": "execute_result"
    }
   ],
   "source": [
    "match(part1).count(False),\\\n",
    "match(part2).count(False),\\\n",
    "match(part3).count(False),\\\n",
    "match(part4).count(False)"
   ]
  },
  {
   "cell_type": "code",
   "execution_count": 115,
   "metadata": {},
   "outputs": [],
   "source": [
    "col_name = ['question', 'answer', 'answer_start', 'is_impossible','context']"
   ]
  },
  {
   "cell_type": "code",
   "execution_count": 116,
   "metadata": {},
   "outputs": [],
   "source": [
    "df = pd.concat([part1[col_name], part2[col_name], part3[col_name], part4[col_name]])"
   ]
  },
  {
   "cell_type": "code",
   "execution_count": 117,
   "metadata": {},
   "outputs": [
    {
     "data": {
      "text/plain": [
       "(207, 5)"
      ]
     },
     "execution_count": 117,
     "metadata": {},
     "output_type": "execute_result"
    }
   ],
   "source": [
    "df.shape"
   ]
  },
  {
   "cell_type": "code",
   "execution_count": 118,
   "metadata": {},
   "outputs": [],
   "source": [
    "df.answer_start = df.answer_start.apply(lambda x: int(x) if not pd.isna(x) else x)"
   ]
  },
  {
   "cell_type": "code",
   "execution_count": 119,
   "metadata": {},
   "outputs": [],
   "source": [
    "df.reset_index(drop=True, inplace=True)"
   ]
  },
  {
   "cell_type": "code",
   "execution_count": 120,
   "metadata": {},
   "outputs": [
    {
     "data": {
      "text/plain": [
       "7"
      ]
     },
     "execution_count": 120,
     "metadata": {},
     "output_type": "execute_result"
    }
   ],
   "source": [
    "match(df).count(False)"
   ]
  },
  {
   "cell_type": "code",
   "execution_count": 121,
   "metadata": {},
   "outputs": [],
   "source": [
    "df['match'] = match(df)"
   ]
  },
  {
   "cell_type": "code",
   "execution_count": 122,
   "metadata": {},
   "outputs": [],
   "source": [
    "true_df = df[df.match==True]"
   ]
  },
  {
   "cell_type": "code",
   "execution_count": 123,
   "metadata": {},
   "outputs": [],
   "source": [
    "true_df.reset_index(drop=True, inplace=True)"
   ]
  },
  {
   "cell_type": "code",
   "execution_count": 124,
   "metadata": {},
   "outputs": [
    {
     "data": {
      "text/plain": [
       "0"
      ]
     },
     "execution_count": 124,
     "metadata": {},
     "output_type": "execute_result"
    }
   ],
   "source": [
    "match(true_df).count(False)"
   ]
  },
  {
   "cell_type": "code",
   "execution_count": 133,
   "metadata": {},
   "outputs": [],
   "source": [
    "true_df[col_name].to_excel('COVID19_QA_testset.xlsx')"
   ]
  },
  {
   "cell_type": "code",
   "execution_count": 138,
   "metadata": {},
   "outputs": [
    {
     "data": {
      "text/plain": [
       "(200, 6)"
      ]
     },
     "execution_count": 138,
     "metadata": {},
     "output_type": "execute_result"
    }
   ],
   "source": [
    "pd.read_csv('COVID19_QA_testset.csv').shape"
   ]
  },
  {
   "cell_type": "code",
   "execution_count": null,
   "metadata": {},
   "outputs": [],
   "source": []
  }
 ],
 "metadata": {
  "kernelspec": {
   "display_name": "Python 3",
   "language": "python",
   "name": "python3"
  },
  "language_info": {
   "codemirror_mode": {
    "name": "ipython",
    "version": 3
   },
   "file_extension": ".py",
   "mimetype": "text/x-python",
   "name": "python",
   "nbconvert_exporter": "python",
   "pygments_lexer": "ipython3",
   "version": "3.7.3"
  }
 },
 "nbformat": 4,
 "nbformat_minor": 2
}
